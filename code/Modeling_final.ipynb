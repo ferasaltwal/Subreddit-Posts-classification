{
 "cells": [
  {
   "cell_type": "code",
   "execution_count": 47,
   "metadata": {},
   "outputs": [],
   "source": [
    "import pandas as pd\n",
    "import numpy as np\n",
    "import matplotlib.pyplot as plt\n",
    "import seaborn as sns\n",
    "\n",
    "from nltk.stem import WordNetLemmatizer\n",
    "from nltk.tokenize import RegexpTokenizer\n",
    "\n",
    "import re\n",
    "\n",
    "#Import Count vectorizer and Classifiers\n",
    "from sklearn.feature_extraction.text import CountVectorizer, TfidfVectorizer\n",
    "from sklearn.linear_model import LogisticRegression\n",
    "from sklearn.model_selection import train_test_split, GridSearchCV\n",
    "from sklearn.pipeline import make_pipeline\n",
    "from sklearn.naive_bayes import MultinomialNB\n",
    "from sklearn.metrics import confusion_matrix, plot_confusion_matrix\n",
    "from sklearn.svm import SVC\n",
    "from sklearn.ensemble import RandomForestClassifier\n",
    "from sklearn.tree import DecisionTreeClassifier\n",
    "from sklearn.metrics import accuracy_score, recall_score, precision_score\n",
    "\n",
    "\n",
    "#remove warnings\n",
    "import warnings\n",
    "warnings.filterwarnings('ignore')"
   ]
  },
  {
   "cell_type": "code",
   "execution_count": 2,
   "metadata": {},
   "outputs": [],
   "source": [
    "data = pd.read_csv('./data/combined_nba_soccer.csv')"
   ]
  },
  {
   "cell_type": "code",
   "execution_count": 3,
   "metadata": {},
   "outputs": [
    {
     "data": {
      "text/html": [
       "<div>\n",
       "<style scoped>\n",
       "    .dataframe tbody tr th:only-of-type {\n",
       "        vertical-align: middle;\n",
       "    }\n",
       "\n",
       "    .dataframe tbody tr th {\n",
       "        vertical-align: top;\n",
       "    }\n",
       "\n",
       "    .dataframe thead th {\n",
       "        text-align: right;\n",
       "    }\n",
       "</style>\n",
       "<table border=\"1\" class=\"dataframe\">\n",
       "  <thead>\n",
       "    <tr style=\"text-align: right;\">\n",
       "      <th></th>\n",
       "      <th>title</th>\n",
       "      <th>created_utc</th>\n",
       "      <th>selftext</th>\n",
       "      <th>subreddit</th>\n",
       "      <th>author</th>\n",
       "      <th>media_only</th>\n",
       "      <th>permalink</th>\n",
       "      <th>target</th>\n",
       "    </tr>\n",
       "  </thead>\n",
       "  <tbody>\n",
       "    <tr>\n",
       "      <th>0</th>\n",
       "      <td>If LeBron manage to lose to this Final and end...</td>\n",
       "      <td>1601223996</td>\n",
       "      <td>How will affect his legacy if he somehow were ...</td>\n",
       "      <td>nba</td>\n",
       "      <td>u87hi</td>\n",
       "      <td>False</td>\n",
       "      <td>/r/nba/comments/j0tyu3/if_lebron_manage_to_los...</td>\n",
       "      <td>0</td>\n",
       "    </tr>\n",
       "    <tr>\n",
       "      <th>1</th>\n",
       "      <td>[Ramirez]Anthony Davis shot 68.0% from mid-ran...</td>\n",
       "      <td>1598987437</td>\n",
       "      <td>NaN</td>\n",
       "      <td>nba</td>\n",
       "      <td>adonisgawd</td>\n",
       "      <td>False</td>\n",
       "      <td>/r/nba/comments/ikqojx/ramirezanthony_davis_sh...</td>\n",
       "      <td>0</td>\n",
       "    </tr>\n",
       "  </tbody>\n",
       "</table>\n",
       "</div>"
      ],
      "text/plain": [
       "                                               title  created_utc  \\\n",
       "0  If LeBron manage to lose to this Final and end...   1601223996   \n",
       "1  [Ramirez]Anthony Davis shot 68.0% from mid-ran...   1598987437   \n",
       "\n",
       "                                            selftext subreddit      author  \\\n",
       "0  How will affect his legacy if he somehow were ...       nba       u87hi   \n",
       "1                                                NaN       nba  adonisgawd   \n",
       "\n",
       "   media_only                                          permalink  target  \n",
       "0       False  /r/nba/comments/j0tyu3/if_lebron_manage_to_los...       0  \n",
       "1       False  /r/nba/comments/ikqojx/ramirezanthony_davis_sh...       0  "
      ]
     },
     "execution_count": 3,
     "metadata": {},
     "output_type": "execute_result"
    }
   ],
   "source": [
    "data.head(2)"
   ]
  },
  {
   "cell_type": "code",
   "execution_count": 4,
   "metadata": {},
   "outputs": [],
   "source": [
    "X = data['title']\n",
    "y = data['target']"
   ]
  },
  {
   "cell_type": "code",
   "execution_count": 5,
   "metadata": {},
   "outputs": [
    {
     "data": {
      "text/plain": [
       "1    0.500881\n",
       "0    0.499119\n",
       "Name: target, dtype: float64"
      ]
     },
     "execution_count": 5,
     "metadata": {},
     "output_type": "execute_result"
    }
   ],
   "source": [
    "y.value_counts(normalize=True)"
   ]
  },
  {
   "cell_type": "code",
   "execution_count": 6,
   "metadata": {},
   "outputs": [],
   "source": [
    "X_train, X_test, y_train, y_test = train_test_split(X, y, test_size=0.2, stratify=y, random_state=22)"
   ]
  },
  {
   "cell_type": "code",
   "execution_count": 7,
   "metadata": {},
   "outputs": [
    {
     "data": {
      "text/plain": [
       "(75791,)"
      ]
     },
     "execution_count": 7,
     "metadata": {},
     "output_type": "execute_result"
    }
   ],
   "source": [
    "X_train.shape"
   ]
  },
  {
   "cell_type": "code",
   "execution_count": 8,
   "metadata": {},
   "outputs": [
    {
     "data": {
      "text/plain": [
       "(18948,)"
      ]
     },
     "execution_count": 8,
     "metadata": {},
     "output_type": "execute_result"
    }
   ],
   "source": [
    "X_test.shape"
   ]
  },
  {
   "cell_type": "code",
   "execution_count": 9,
   "metadata": {},
   "outputs": [
    {
     "data": {
      "text/plain": [
       "(75791,)"
      ]
     },
     "execution_count": 9,
     "metadata": {},
     "output_type": "execute_result"
    }
   ],
   "source": [
    "y_train.shape"
   ]
  },
  {
   "cell_type": "code",
   "execution_count": 10,
   "metadata": {},
   "outputs": [
    {
     "data": {
      "text/plain": [
       "71928    La Liga president Javier Tebas on Lionel Messi...\n",
       "15993                                      For the chelsea\n",
       "71698    Been seeing a lot of talk about how Melo is pr...\n",
       "84501    TIKTOC Model saying she got paid $7000 to come...\n",
       "38548    Arsenal win their 16th Community Shield agains...\n",
       "Name: title, dtype: object"
      ]
     },
     "execution_count": 10,
     "metadata": {},
     "output_type": "execute_result"
    }
   ],
   "source": [
    "X_train.head()"
   ]
  },
  {
   "cell_type": "markdown",
   "metadata": {},
   "source": [
    "### Modeling"
   ]
  },
  {
   "cell_type": "code",
   "execution_count": 12,
   "metadata": {},
   "outputs": [],
   "source": [
    "svc = SVC()\n",
    "rf = RandomForestClassifier()"
   ]
  },
  {
   "cell_type": "code",
   "execution_count": 13,
   "metadata": {},
   "outputs": [
    {
     "data": {
      "text/plain": [
       "71928    La Liga president Javier Tebas on Lionel Messi...\n",
       "15993                                      For the chelsea\n",
       "71698    Been seeing a lot of talk about how Melo is pr...\n",
       "84501    TIKTOC Model saying she got paid $7000 to come...\n",
       "38548    Arsenal win their 16th Community Shield agains...\n",
       "                               ...                        \n",
       "2907     [Smith] I'm told the Orlando Magic have refuse...\n",
       "52095    [Bechler] Messi wants to play for Manchester C...\n",
       "42374    Realistic trade options to get Embiid to Miami...\n",
       "77337    Post-Match Thread: Germany 3-3 Turkey [Friendl...\n",
       "83625    Arsenal to sign Lille defender Gabriel Magalha...\n",
       "Name: title, Length: 75791, dtype: object"
      ]
     },
     "execution_count": 13,
     "metadata": {},
     "output_type": "execute_result"
    }
   ],
   "source": [
    "X_train"
   ]
  },
  {
   "cell_type": "code",
   "execution_count": 14,
   "metadata": {},
   "outputs": [],
   "source": [
    "#making pipes for each model (Logestic Regression, Naive Bayes, SVC, random forest)"
   ]
  },
  {
   "cell_type": "code",
   "execution_count": 16,
   "metadata": {},
   "outputs": [],
   "source": [
    "cvect = CountVectorizer()\n",
    "\n",
    "logr = LogisticRegression()\n",
    "nb = MultinomialNB()\n",
    "svc = SVC()\n",
    "rf = RandomForestClassifier()"
   ]
  },
  {
   "cell_type": "code",
   "execution_count": 42,
   "metadata": {},
   "outputs": [],
   "source": [
    "#Linear Regression params and pipe\n",
    "pipe_logr = make_pipeline(cvect, logr)\n",
    "params_logr = {\n",
    "    'countvectorizer__min_df': [0],\n",
    "    'countvectorizer__max_df': [0.5, 0.6],\n",
    "    'countvectorizer__ngram_range': [(1,2)]\n",
    "}"
   ]
  },
  {
   "cell_type": "code",
   "execution_count": 43,
   "metadata": {},
   "outputs": [],
   "source": [
    "# Naive Bayes params and pipe\n",
    "pipe_nb = make_pipeline(cvect, nb)\n",
    "params_nb = {\n",
    "    'countvectorizer__min_df': [0],\n",
    "    'countvectorizer__max_df': [0.6, 0.6, 0.8],\n",
    "    'countvectorizer__ngram_range': [(1,2)]\n",
    "}"
   ]
  },
  {
   "cell_type": "code",
   "execution_count": 44,
   "metadata": {},
   "outputs": [],
   "source": [
    "# SVC params and pipe\n",
    "pipe_svc = make_pipeline(cvect, svc)\n",
    "params_svc = {\n",
    "#     'countvectorizer__min_df': [0],\n",
    "    'countvectorizer__max_df': [0.5, 0.6],\n",
    "    'countvectorizer__ngram_range': [(1,2)],\n",
    "}"
   ]
  },
  {
   "cell_type": "code",
   "execution_count": 45,
   "metadata": {},
   "outputs": [],
   "source": [
    "# Random Forest params and pipe\n",
    "pipe_rf = make_pipeline(cvect, rf)\n",
    "params_rf = {\n",
    "#     'countvectorizer__min_df': [0],\n",
    "    'countvectorizer__max_df': [0.5, 0.6],\n",
    "    'countvectorizer__ngram_range': [(1,2)],\n",
    "}"
   ]
  },
  {
   "cell_type": "code",
   "execution_count": 18,
   "metadata": {},
   "outputs": [],
   "source": [
    "#making a function to automate data modeling with different models\n",
    "def data_modeling (pipe, params):\n",
    "    \n",
    "    grid = GridSearchCV(pipe, params)\n",
    "    grid.fit(X_train, y_train)\n",
    "    \n",
    "    print (grid.best_params_)\n",
    "    print (f'Training data score: {grid.score(X_train, y_train)}')\n",
    "    print (f'Tesing data score: {grid.score(X_test, y_test)}')\n",
    "    \n",
    "    return plot_confusion_matrix(grid, X_test, y_test, display_labels=['NBA', 'Soccer']);"
   ]
  },
  {
   "cell_type": "markdown",
   "metadata": {},
   "source": [
    "#### Logestic Regression"
   ]
  },
  {
   "cell_type": "code",
   "execution_count": 37,
   "metadata": {},
   "outputs": [
    {
     "name": "stdout",
     "output_type": "stream",
     "text": [
      "{'countvectorizer__max_df': 0.5, 'countvectorizer__min_df': 0, 'countvectorizer__ngram_range': (1, 2)}\n",
      "Training data score: 0.9979285139396499\n",
      "Tesing data score: 0.967701076630779\n"
     ]
    },
    {
     "data": {
      "text/plain": [
       "<sklearn.metrics._plot.confusion_matrix.ConfusionMatrixDisplay at 0x7fa3a1dd5220>"
      ]
     },
     "execution_count": 37,
     "metadata": {},
     "output_type": "execute_result"
    },
    {
     "data": {
      "image/png": "[encoded data removed]",
      "text/plain": [
       "<Figure size 432x288 with 2 Axes>"
      ]
     },
     "metadata": {
      "needs_background": "light"
     },
     "output_type": "display_data"
    }
   ],
   "source": [
    "data_modeling(pipe_logr, params_logr)"
   ]
  },
  {
   "cell_type": "markdown",
   "metadata": {},
   "source": [
    "#### Naive Bayes"
   ]
  },
  {
   "cell_type": "code",
   "execution_count": 38,
   "metadata": {},
   "outputs": [
    {
     "name": "stdout",
     "output_type": "stream",
     "text": [
      "{'countvectorizer__max_df': 0.6, 'countvectorizer__min_df': 0, 'countvectorizer__ngram_range': (1, 2)}\n",
      "Training data score: 0.9886793946510799\n",
      "Tesing data score: 0.9712898458940258\n"
     ]
    },
    {
     "data": {
      "text/plain": [
       "<sklearn.metrics._plot.confusion_matrix.ConfusionMatrixDisplay at 0x7fa3a1dd50a0>"
      ]
     },
     "execution_count": 38,
     "metadata": {},
     "output_type": "execute_result"
    },
    {
     "data": {
      "image/png": "[encoded data removed]",
      "text/plain": [
       "<Figure size 432x288 with 2 Axes>"
      ]
     },
     "metadata": {
      "needs_background": "light"
     },
     "output_type": "display_data"
    }
   ],
   "source": [
    "data_modeling(pipe_nb, params_nb)"
   ]
  },
  {
   "cell_type": "markdown",
   "metadata": {},
   "source": [
    "#### Random Forest"
   ]
  },
  {
   "cell_type": "code",
   "execution_count": 46,
   "metadata": {},
   "outputs": [
    {
     "name": "stdout",
     "output_type": "stream",
     "text": [
      "{'countvectorizer__max_df': 0.6, 'countvectorizer__ngram_range': (1, 2)}\n",
      "Training data score: 0.998509057803697\n",
      "Tesing data score: 0.9608401942157484\n"
     ]
    },
    {
     "data": {
      "text/plain": [
       "<sklearn.metrics._plot.confusion_matrix.ConfusionMatrixDisplay at 0x7fa3a2128280>"
      ]
     },
     "execution_count": 46,
     "metadata": {},
     "output_type": "execute_result"
    },
    {
     "data": {
      "image/png": "[encoded data removed]",
      "text/plain": [
       "<Figure size 432x288 with 2 Axes>"
      ]
     },
     "metadata": {
      "needs_background": "light"
     },
     "output_type": "display_data"
    }
   ],
   "source": [
    "data_modeling(pipe_rf, params_rf)"
   ]
  },
  {
   "cell_type": "code",
   "execution_count": 54,
   "metadata": {},
   "outputs": [
    {
     "name": "stdout",
     "output_type": "stream",
     "text": [
      "<class 'pandas.core.frame.DataFrame'>\n",
      "RangeIndex: 94739 entries, 0 to 94738\n",
      "Data columns (total 8 columns):\n",
      " #   Column       Non-Null Count  Dtype \n",
      "---  ------       --------------  ----- \n",
      " 0   title        94739 non-null  object\n",
      " 1   created_utc  94739 non-null  int64 \n",
      " 2   selftext     40505 non-null  object\n",
      " 3   subreddit    94739 non-null  object\n",
      " 4   author       94739 non-null  object\n",
      " 5   media_only   94739 non-null  bool  \n",
      " 6   permalink    94739 non-null  object\n",
      " 7   target       94739 non-null  int64 \n",
      "dtypes: bool(1), int64(2), object(5)\n",
      "memory usage: 5.2+ MB\n"
     ]
    }
   ],
   "source": [
    "data.info()"
   ]
  },
  {
   "cell_type": "code",
   "execution_count": null,
   "metadata": {},
   "outputs": [],
   "source": []
  }
 ],
 "metadata": {
  "kernelspec": {
   "display_name": "Python 3",
   "language": "python",
   "name": "python3"
  },
  "language_info": {
   "codemirror_mode": {
    "name": "ipython",
    "version": 3
   },
   "file_extension": ".py",
   "mimetype": "text/x-python",
   "name": "python",
   "nbconvert_exporter": "python",
   "pygments_lexer": "ipython3",
   "version": "3.8.3"
  }
 },
 "nbformat": 4,
 "nbformat_minor": 4
}
